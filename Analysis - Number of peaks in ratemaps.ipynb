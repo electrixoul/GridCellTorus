{
 "cells": [
  {
   "cell_type": "code",
   "execution_count": 13,
   "metadata": {},
   "outputs": [
    {
     "name": "stderr",
     "output_type": "stream",
     "text": [
      "C:\\Users\\erihe\\Anaconda3\\lib\\site-packages\\ipykernel_launcher.py:159: RuntimeWarning: invalid value encountered in true_divide\n"
     ]
    }
   ],
   "source": [
    "import * from utils\n",
    "_SQRT2 = np.sqrt(2.0)\n",
    "_SQRT3 = np.sqrt(3.0)\n",
    "\n",
    "npoints = 1000\n",
    "sigs = [0, 1, 2, 3, 4, 5, 6,7,8,9,10]\n",
    "num_peaks_all = {}\n",
    "cs = np.array(['w','g','r','c','m','y','b','k',])[:, np.newaxis].repeat(5,1).T.flatten()\n",
    "\n",
    "numbins = 50\n",
    "bins = np.linspace(0,2*np.pi, numbins+1)\n",
    "numangsint = 51\n",
    "numangsint_1 = numangsint-1\n",
    "mid = int((numangsint_1)/2)\n",
    "indstemp1 = np.zeros((numangsint_1,numangsint_1), dtype=int)\n",
    "indstemp1[indstemp1==0] = np.arange((numangsint_1)**2)\n",
    "indstemp1temp = indstemp1.copy()\n",
    "for rat_name, mod_name, sess_name, day_name in (('R', '1', 'OF', 'day1'),\n",
    "                                            ('R', '2', 'OF', 'day1'),\n",
    "                                            ('R', '3', 'OF', 'day1'),\n",
    "                                            ('R', '1', 'WW', 'day1'),\n",
    "                                            ('R', '2', 'WW', 'day1'),\n",
    "                                            ('R', '3', 'WW', 'day1'),\n",
    "                                            ('R', '1', 'OF', 'day2'),\n",
    "                                            ('R', '2', 'OF', 'day2'),\n",
    "                                            ('R', '3', 'OF', 'day2'),\n",
    "                                            ('R', '1', 'REM', 'day2'),\n",
    "                                            ('R', '2', 'REM', 'day2'),\n",
    "                                            ('R', '3', 'REM', 'day2'),\n",
    "                                            ('R', '2', 'SWS', 'day2'),\n",
    "                                            ('R', '3', 'SWS', 'day2'),\n",
    "                                            ('Q', '1', 'OF', ''),\n",
    "                                            ('Q', '2', 'OF', ''),\n",
    "                                            ('Q', '1', 'WW', ''),\n",
    "                                            ('Q', '2', 'WW', ''),\n",
    "                                            ('Q', '1', 'REM', ''),\n",
    "                                            ('Q', '2', 'REM', ''),\n",
    "                                            ('Q', '1', 'SWS', ''),\n",
    "                                            ('Q', '2', 'SWS', ''),\n",
    "                                            ('S', '1', 'OF', ''),\n",
    "                                            ('S', '1', 'WW', ''),\n",
    "                                            ):\n",
    "        \n",
    "    file_name = rat_name + '_' + mod_name + '_' + sess_name + '_OF'\n",
    "    if len(day_name)>0:\n",
    "        file_name += '_' + day_name\n",
    "    \n",
    "    f = np.load('Toroidal_topology_grid_cell_data/Results/' + file_name + '_toroidal_rate_maps.npz', allow_pickle = True)\n",
    "    mtots = f['mtots']\n",
    "    f.close()\n",
    "    num_neurons = np.shape(mtots)[0]\n",
    "\n",
    "    num_peaks = np.zeros((num_neurons, len(sigs)))\n",
    "    for nn in np.arange(num_neurons):\n",
    "        mtemp1_3 = mtots[nn,:,:].copy()\n",
    "        for j in range(numangsint_1):\n",
    "            mtemp1_3[j,:] = np.roll(mtemp1_3[j,:],int(j/2))\n",
    "        mtemp1_4 = np.concatenate((mtemp1_3, mtemp1_3, mtemp1_3),1)\n",
    "        mtemp1_5 = np.zeros_like(mtemp1_4)\n",
    "        mtemp1_5[:, :mid] = mtemp1_4[:, (numangsint_1)*3-mid:]  \n",
    "        mtemp1_5[:, mid:] = mtemp1_4[:,:(numangsint_1)*3-mid]  \n",
    "        mtot = np.concatenate((mtemp1_5,mtemp1_4,mtemp1_5))\n",
    "        for s, sig in enumerate(sigs):\n",
    "            data = gaussian_filter(mtot, sigma = sig, mode = 'constant')\n",
    "            datatmp = data.copy().flatten()\n",
    "            datatmpBU = datatmp.copy()\n",
    "            datainds = np.indices(np.shape(data)).flatten().reshape((2,data.shape[0]**2)).T\n",
    "            datacount = np.zeros(len(datatmp))\n",
    "            XY = np.zeros((npoints,2))\n",
    "            for k in range(npoints):\n",
    "                ktemp = np.argmax(datatmp)\n",
    "                XY[k,:] = datainds[ktemp,:]\n",
    "                datacount[ktemp] += 1\n",
    "                datatmp[ktemp] = datatmpBU[ktemp]/datacount[ktemp]\n",
    "\n",
    "            X = squareform(pdist(XY, 'euclidean'))\n",
    "            thresh = 5\n",
    "            X[X>thresh] = -1\n",
    "            knn_indices = []\n",
    "            knn_dists  =[]\n",
    "            F = np.zeros(npoints)\n",
    "            for i in range(npoints):\n",
    "                indsvals = np.where(X[i,:]>=0)[0]\n",
    "                knn_indices.append(indsvals)\n",
    "                knn_dists.append(X[i,indsvals])\n",
    "                F[i] = np.sum(np.exp(knn_dists[i]))\n",
    "            i = np.argmax(F)\n",
    "            inds_all = np.arange(len(XY[:,0]))\n",
    "            classes = np.zeros(len(XY[:,0]))\n",
    "            classcurr = 1\n",
    "            inds_left = inds_all>-1\n",
    "            inds_left[i] = False\n",
    "#            inds_left[knn_indices[i]] = False\n",
    "            classes[i] = classcurr\n",
    "            classes[knn_indices[i]] = classcurr\n",
    "            for j in range(npoints-1):\n",
    "                F[knn_indices[i]] -= knn_dists[i]\n",
    "                Fmax = np.argmax(F[inds_left])\n",
    "                i = inds_all[inds_left][Fmax]\n",
    "                inds_left[i] = False\n",
    "#                inds_left[knn_indices[i]] = False\n",
    "                if classes[i] == 0:\n",
    "                    classcurr += 1\n",
    "                    classes[i] = classcurr\n",
    "                    classes[knn_indices[i]] = classcurr\n",
    "                else:\n",
    "                    classes[knn_indices[i]] = classes[i]\n",
    "            ind = classes.astype(int) -1\n",
    "            binstacked = np.bincount(ind)\n",
    "            indd = np.unique(ind)\n",
    "                        \n",
    "            inds1 = ((XY[:,0]>=numangsint_1) & \n",
    "                    (XY[:,0]<2*numangsint_1) & \n",
    "                    (XY[:,1]>=numangsint_1) & \n",
    "                    (XY[:,1]<2*numangsint_1))\n",
    "\n",
    "            inds2 = ((XY[:,0]>=1/2*numangsint_1) & \n",
    "                    (XY[:,0]<3/2*numangsint_1) & \n",
    "                    (XY[:,1]>=numangsint_1) & \n",
    "                    (XY[:,1]<2*numangsint_1))\n",
    "\n",
    "            inds3 = ((XY[:,0]>=3/2*numangsint_1) & \n",
    "                    (XY[:,0]<5/2*numangsint_1) & \n",
    "                    (XY[:,1]>=numangsint_1) & \n",
    "                    (XY[:,1]<2*numangsint_1))\n",
    "\n",
    "            inds4 = ((XY[:,0]>=numangsint_1) & \n",
    "                    (XY[:,0]<2*numangsint_1) & \n",
    "                    (XY[:,1]>=1/2*numangsint_1) & \n",
    "                    (XY[:,1]<3/2*numangsint_1))\n",
    "\n",
    "            inds5 = ((XY[:,0]>=numangsint_1) & \n",
    "                    (XY[:,0]<2*numangsint_1) & \n",
    "                    (XY[:,1]>=3/2*numangsint_1) & \n",
    "                    (XY[:,1]<5/2*numangsint_1))\n",
    "            nump = []\n",
    "            for inds in [inds1,inds2,inds3,inds4,inds5]:\n",
    "                bintemp = np.zeros(max(ind)+1)\n",
    "                ind1 = ind[inds]\n",
    "                inddd = np.unique(ind1)\n",
    "                bintemp[inddd] = np.bincount(ind1)[inddd]\n",
    "                indsfinal = np.where(np.divide(bintemp, binstacked)>0.5)[0]\n",
    "                nump.append(len(np.unique(indsfinal)))\n",
    "            \n",
    "            num_peaks[nn, s] = np.max(nump)\n",
    "    num_peaks_all[rat_name + '_' + mod_name + '_' + sess_name] = num_peaks\n",
    "    "
   ]
  },
  {
   "cell_type": "code",
   "execution_count": 33,
   "metadata": {},
   "outputs": [
    {
     "data": {
      "text/plain": [
       "[<matplotlib.lines.Line2D at 0x168af056608>]"
      ]
     },
     "execution_count": 33,
     "metadata": {},
     "output_type": "execute_result"
    },
    {
     "data": {
      "image/png": "[encoded data removed]",
      "text/plain": [
       "<Figure size 432x288 with 1 Axes>"
      ]
     },
     "metadata": {
      "needs_background": "light"
     },
     "output_type": "display_data"
    }
   ],
   "source": [
    "fig = plt.figure()\n",
    "ax1 = fig.add_subplot(111)\n",
    "sigs = [0, 1, 2, 3, 4, 5, 6,7,8,9,10]\n",
    "for k in num_peaks_all:  \n",
    "    num_peaks = num_peaks_all[k].copy()\n",
    "    num_neurons = np.shape(num_peaks)[0]\n",
    "    ax1.plot(sigs, np.sum(num_peaks[:,:]==1,0)/num_neurons)\n",
    "ax1.set_aspect(1.0/ax1.get_data_ratio())\n",
    "plt.plot([2.75, 2.75], [0,1], c = 'r', ls = '--')\n"
   ]
  },
  {
   "cell_type": "code",
   "execution_count": 36,
   "metadata": {},
   "outputs": [
    {
     "data": {
      "text/plain": [
       "[<matplotlib.lines.Line2D at 0x168ae984888>]"
      ]
     },
     "execution_count": 36,
     "metadata": {},
     "output_type": "execute_result"
    },
    {
     "data": {
      "image/png": "[encoded data removed]",
      "text/plain": [
       "<Figure size 432x288 with 1 Axes>"
      ]
     },
     "metadata": {
      "needs_background": "light"
     },
     "output_type": "display_data"
    }
   ],
   "source": [
    "numneurs = np.zeros((len(sigs), 3))\n",
    "for k in num_peaks_all:    \n",
    "    num_peaks = np.array(num_peaks_all[k]).copy()\n",
    "    for i in sigs:\n",
    "        numneurs[i,0] += np.sum(num_peaks[:,i]==0)\n",
    "        numneurs[i,1] += np.sum(num_peaks[:,i]==1)\n",
    "        numneurs[i,2] += np.sum(num_peaks[:,i]>1)\n",
    "\n",
    "plt.figure()\n",
    "ax = plt.axes()\n",
    "ax.plot(numneurs[:,1:]/np.sum(numneurs[0,:]), lw = 3)\n",
    "ax.set_xlim([0,10])\n",
    "ax.set_ylim([0,1.03])\n",
    "\n",
    "ax.set_xticks([0,5,10])\n",
    "ax.set_xticklabels(['','', ''])\n",
    "ax.set_yticks([0,0.5,1.0])\n",
    "ax.set_yticklabels(['','',''])\n",
    "ax.set_aspect(1.0/ax.get_data_ratio())\n",
    "\n",
    "ax.plot([0,10], [1,1], c = 'k', ls = '--', lw = 2, alpha = 0.6)\n",
    "plt.plot([2.75, 2.75], [0,1], c = 'k', ls = '--', lw = 2, alpha = 0.6)\n"
   ]
  }
 ],
 "metadata": {
  "kernelspec": {
   "display_name": "Python 3",
   "language": "python",
   "name": "python3"
  },
  "language_info": {
   "codemirror_mode": {
    "name": "ipython",
    "version": 3
   },
   "file_extension": ".py",
   "mimetype": "text/x-python",
   "name": "python",
   "nbconvert_exporter": "python",
   "pygments_lexer": "ipython3",
   "version": "3.7.6"
  }
 },
 "nbformat": 4,
 "nbformat_minor": 4
}
