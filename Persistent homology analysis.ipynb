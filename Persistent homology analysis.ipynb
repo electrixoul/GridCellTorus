{
 "cells": [
  {
   "cell_type": "code",
   "execution_count": null,
   "metadata": {},
   "outputs": [],
   "source": [
    "import matplotlib.pyplot as plt\n",
    "import h5py\n",
    "import numpy as np \n",
    "from ripser import Rips, ripser\n",
    "from sklearn import preprocessing\n",
    "from scipy.spatial.distance import cdist, pdist, squareform\n",
    "from scipy.ndimage import gaussian_filter1d, gaussian_filter\n",
    "from scipy.stats import binned_statistic_2d, pearsonr\n",
    "from scipy.sparse import coo_matrix\n",
    "from scipy.linalg import eigh\n",
    "from scipy.sparse.linalg import lsmr\n",
    "from scipy import stats\n",
    "from datetime import datetime \n",
    "import time\n",
    "import functools\n",
    "from scipy import signal\n",
    "from scipy import optimize\n",
    "import sys\n",
    "import numba\n"
   ]
  },
  {
   "cell_type": "code",
   "execution_count": 89,
   "metadata": {},
   "outputs": [
    {
     "name": "stderr",
     "output_type": "stream",
     "text": [
      "C:\\Users\\erihe\\Anaconda3\\lib\\site-packages\\ipykernel_launcher.py:79: RuntimeWarning: divide by zero encountered in log\n"
     ]
    },
    {
     "name": "stdout",
     "output_type": "stream",
     "text": [
      "R_1_OF_day1\n"
     ]
    },
    {
     "data": {
      "image/png": "[encoded data removed]",
      "text/plain": [
       "<Figure size 432x288 with 2 Axes>"
      ]
     },
     "metadata": {
      "needs_background": "light"
     },
     "output_type": "display_data"
    },
    {
     "name": "stderr",
     "output_type": "stream",
     "text": [
      "C:\\Users\\erihe\\Anaconda3\\lib\\site-packages\\ipykernel_launcher.py:79: RuntimeWarning: divide by zero encountered in log\n"
     ]
    },
    {
     "name": "stdout",
     "output_type": "stream",
     "text": [
      "R_2_OF_day1\n"
     ]
    },
    {
     "data": {
      "image/png": "[encoded data removed]",
      "text/plain": [
       "<Figure size 432x288 with 2 Axes>"
      ]
     },
     "metadata": {
      "needs_background": "light"
     },
     "output_type": "display_data"
    },
    {
     "name": "stderr",
     "output_type": "stream",
     "text": [
      "C:\\Users\\erihe\\Anaconda3\\lib\\site-packages\\ipykernel_launcher.py:79: RuntimeWarning: divide by zero encountered in log\n"
     ]
    },
    {
     "name": "stdout",
     "output_type": "stream",
     "text": [
      "R_3_OF_day1\n"
     ]
    },
    {
     "data": {
      "image/png": "[encoded data removed]",
      "text/plain": [
       "<Figure size 432x288 with 2 Axes>"
      ]
     },
     "metadata": {
      "needs_background": "light"
     },
     "output_type": "display_data"
    },
    {
     "name": "stderr",
     "output_type": "stream",
     "text": [
      "C:\\Users\\erihe\\Anaconda3\\lib\\site-packages\\ipykernel_launcher.py:79: RuntimeWarning: divide by zero encountered in log\n"
     ]
    },
    {
     "name": "stdout",
     "output_type": "stream",
     "text": [
      "R_1_WW_day1\n"
     ]
    },
    {
     "data": {
      "image/png": "[encoded data removed]",
      "text/plain": [
       "<Figure size 432x288 with 2 Axes>"
      ]
     },
     "metadata": {
      "needs_background": "light"
     },
     "output_type": "display_data"
    },
    {
     "name": "stderr",
     "output_type": "stream",
     "text": [
      "C:\\Users\\erihe\\Anaconda3\\lib\\site-packages\\ipykernel_launcher.py:79: RuntimeWarning: divide by zero encountered in log\n"
     ]
    },
    {
     "name": "stdout",
     "output_type": "stream",
     "text": [
      "R_2_WW_day1\n"
     ]
    },
    {
     "data": {
      "image/png": "[encoded data removed]",
      "text/plain": [
       "<Figure size 432x288 with 2 Axes>"
      ]
     },
     "metadata": {
      "needs_background": "light"
     },
     "output_type": "display_data"
    },
    {
     "name": "stderr",
     "output_type": "stream",
     "text": [
      "C:\\Users\\erihe\\Anaconda3\\lib\\site-packages\\ipykernel_launcher.py:79: RuntimeWarning: divide by zero encountered in log\n"
     ]
    },
    {
     "name": "stdout",
     "output_type": "stream",
     "text": [
      "R_3_WW_day1\n"
     ]
    },
    {
     "data": {
      "image/png": "[encoded data removed]",
      "text/plain": [
       "<Figure size 432x288 with 2 Axes>"
      ]
     },
     "metadata": {
      "needs_background": "light"
     },
     "output_type": "display_data"
    }
   ],
   "source": [
    "bRoll = False\n",
    "dim = 6\n",
    "ph_classes = [0,1] # Decode the ith most persistent cohomology class\n",
    "num_circ = len(ph_classes)\n",
    "dec_tresh = 0.99\n",
    "metric = 'cosine'\n",
    "maxdim = 1\n",
    "coeff = 47\n",
    "active_times = 15000\n",
    "k = 1000\n",
    "num_times = 5\n",
    "n_points = 1200\n",
    "nbs = 800\n",
    "sigma = 1500\n",
    "\n",
    "for rat_name, mod_name, sess_name, day_name in (('R', '1', 'OF', 'day1'),\n",
    "                                                ('R', '2', 'OF', 'day1'),\n",
    "                                                ('R', '3', 'OF', 'day1'),\n",
    "                                                ('R', '1', 'WW', 'day1'),\n",
    "                                                ('R', '2', 'WW', 'day1'),\n",
    "                                                ('R', '3', 'WW', 'day1'),\n",
    "#                                                ('R', '1', 'OF', 'day2'),\n",
    "#                                                ('R', '2', 'OF', 'day2'),\n",
    "#                                                ('R', '3', 'OF', 'day2'),\n",
    "#                                                ('R', '1', 'REM', 'day2'),\n",
    "#                                                ('R', '2', 'REM', 'day2'),\n",
    "#                                                ('R', '3', 'REM', 'day2'),\n",
    "#                                                ('R', '1', 'SWS', 'day2'),\n",
    "#                                                ('R', '2', 'SWS', 'day2'),\n",
    "#                                                ('R', '3', 'SWS', 'day2'),\n",
    "#                                                ('Q', '1', 'OF', ''),\n",
    "#                                                ('Q', '2', 'OF', ''),\n",
    "#                                                ('Q', '1', 'WW', ''),\n",
    "#                                                ('Q', '2', 'WW', ''),\n",
    "#                                                ('Q', '1', 'REM', ''),\n",
    "#                                                ('Q', '2', 'REM', ''),\n",
    "#                                                ('Q', '1', 'SWS', ''),\n",
    "#                                                ('Q', '2', 'SWS', ''),\n",
    "#                                                ('S', '1', 'OF', ''),\n",
    "#                                                ('S', '1', 'WW', ''),\n",
    "#                                                ('S', '1', 'REM', ''),\n",
    "#                                                ('S', '1', 'SWS', '')\n",
    "                                                ):\n",
    "    if sess_name in ('OF', 'WW'):\n",
    "        sspikes,__,__,__,__ = get_spikes(rat_name, mod_name, day_name, sess_name, bType = 'pure',\n",
    "                                         bSmooth = True, bSpeed = True)\n",
    "    else:\n",
    "        sspikes = get_spikes(rat_name, mod_name, day_name, sess_name, bType = 'pure', bSmooth = True, bSpeed = False)\n",
    "        \n",
    "    num_neurons = len(sspikes[0,:])\n",
    "\n",
    "    if bRoll:\n",
    "        np.random.seed(s)\n",
    "        shift = np.zeros(num_neurons, dtype = int)\n",
    "        for n in range(num_neurons):\n",
    "            shifti = int(np.random.rand()*len(sspikes[:,0]))\n",
    "            sspikes[:,n] = np.roll(sspikes[:,n].copy(), shifti)\n",
    "            shift[n] = shifti\n",
    "            \n",
    "    times_cube = np.arange(0,len(sspikes[:,0]),num_times)\n",
    "    movetimes = np.sort(np.argsort(np.sum(sspikes[times_cube,:],1))[-active_times:])\n",
    "    movetimes = times_cube[movetimes]\n",
    "\n",
    "    dim_red_spikes_move_scaled,__,__ = pca(preprocessing.scale(sspikes[movetimes,:]), dim = dim)\n",
    "    indstemp,dd,fs  = sample_denoising(dim_red_spikes_move_scaled,  k, \n",
    "                                        n_points, 1, metric)\n",
    "    dim_red_spikes_move_scaled = dim_red_spikes_move_scaled[indstemp,:]\n",
    "    X = squareform(pdist(dim_red_spikes_move_scaled, metric))\n",
    "    knn_indices = np.argsort(X)[:, :nbs]\n",
    "    knn_dists = X[np.arange(X.shape[0])[:, None], knn_indices].copy()\n",
    "    sigmas, rhos = smooth_knn_dist(knn_dists, nbs, local_connectivity=0)\n",
    "    rows, cols, vals = compute_membership_strengths(knn_indices, knn_dists, sigmas, rhos)\n",
    "    result = coo_matrix((vals, (rows, cols)), shape=(X.shape[0], X.shape[0]))\n",
    "    result.eliminate_zeros()\n",
    "    transpose = result.transpose()\n",
    "    prod_matrix = result.multiply(transpose)\n",
    "    result = (result + transpose - prod_matrix)\n",
    "    result.eliminate_zeros()\n",
    "    d = result.toarray()\n",
    "    d = -np.log(d)\n",
    "    np.fill_diagonal(d,0)\n",
    "\n",
    "    persistence = ripser(d, maxdim=maxdim, coeff=coeff, do_cocycles= True, distance_matrix = True)    \n",
    "    plot_barcode(persistence['dgms'])    \n",
    "    if len(day_name)>0:\n",
    "        day_name = '_' + day_name\n",
    "    print(rat_name + '_' + mod_name + '_' + sess_name + day_name )\n",
    "    plt.show()\n",
    "    \n",
    "    np.savez_compressed('Toroidal_topology_grid_cell_data/Results/' + \n",
    "        rat_name + '_' + mod_name + '_' + sess_name + day_name  + '_persistence', \n",
    "        persistence = persistence, indstemp = indstemp,  movetimes = movetimes)\n",
    "    day_name = day_name[1:]\n",
    "    \n",
    "    ############ Decode cocycles ################\n",
    "    diagrams = persistence[\"dgms\"] # the multiset describing the lives of the persistence classes\n",
    "    cocycles = persistence[\"cocycles\"][1] # the cocycle representatives for the 1-dim classes\n",
    "    dists_land = persistence[\"dperm2all\"] # the pairwise distance between the points \n",
    "    births1 = diagrams[1][:, 0] #the time of birth for the 1-dim classes\n",
    "    deaths1 = diagrams[1][:, 1] #the time of death for the 1-dim classes\n",
    "    deaths1[np.isinf(deaths1)] = 0\n",
    "    lives1 = deaths1-births1 # the lifetime for the 1-dim classes\n",
    "    iMax = np.argsort(lives1)\n",
    "    coords1 = np.zeros((num_circ, len(indstemp)))\n",
    "    threshold = births1[iMax[-2]] + (deaths1[iMax[-2]] - births1[iMax[-2]])*dec_tresh\n",
    "    for c in ph_classes:\n",
    "        cocycle = cocycles[iMax[-(c+1)]]\n",
    "        coords1[c,:],inds = get_coords(cocycle, threshold, len(indstemp), dists_land, coeff)\n",
    "\n",
    "    num_neurons = len(sspikes[0,:])\n",
    "    centcosall = np.zeros((num_neurons, 2, n_points))\n",
    "    centsinall = np.zeros((num_neurons, 2, n_points))\n",
    "    dspk = preprocessing.scale(sspikes[movetimes[indstemp],:])\n",
    "\n",
    "    for neurid in range(num_neurons):\n",
    "        spktemp = dspk[:, neurid].copy()\n",
    "        centcosall[neurid,:,:] = np.multiply(np.cos(coords1[:, :]*2*np.pi),spktemp)\n",
    "        centsinall[neurid,:,:] = np.multiply(np.sin(coords1[:, :]*2*np.pi),spktemp)\n",
    "\n",
    "    if sess_name in ('OF', 'WW'):\n",
    "        sspikes,__,__,__,__ = get_spikes(rat_name, mod_name, day_name, sess_name, bType = 'pure',\n",
    "                                         bSmooth = True, bSpeed = True, smoothing_width = sigma)\n",
    "        spikes,__,__,__,__ = get_spikes(rat_name, mod_name, day_name, sess_name, bType = 'pure',\n",
    "                                         bSmooth = False, bSpeed = True)\n",
    "    else:\n",
    "        sspikes = get_spikes(rat_name, mod_name, day_name, sess_name, bType = 'pure', bSmooth = True, bSpeed = False,\n",
    "                             smoothing_width = sigma)\n",
    "        spikes = get_spikes(rat_name, mod_name, day_name, sess_name, bType = 'pure', bSmooth = False, bSpeed = False)\n",
    "\n",
    "    times = np.where(np.sum(spikes>0, 1)>=1)[0]\n",
    "    dspk = preprocessing.scale(sspikes)\n",
    "    sspikes = sspikes[times,:]\n",
    "    dspk = dspk[times,:]\n",
    "\n",
    "    a = np.zeros((len(sspikes[:,0]), 2, num_neurons))\n",
    "    for n in range(num_neurons):\n",
    "        a[:,:,n] = np.multiply(dspk[:,n:n+1],np.sum(centcosall[n,:,:],1))\n",
    "\n",
    "    c = np.zeros((len(sspikes[:,0]), 2, num_neurons))\n",
    "    for n in range(num_neurons):\n",
    "        c[:,:,n] = np.multiply(dspk[:,n:n+1],np.sum(centsinall[n,:,:],1))\n",
    "\n",
    "    mtot2 = np.sum(c,2)\n",
    "    mtot1 = np.sum(a,2)\n",
    "    coords = np.arctan2(mtot2,mtot1)%(2*np.pi)\n",
    "    if sess_name == 'OF':\n",
    "        coordsbox = coords.copy()\n",
    "        times_box = times.copy()\n",
    "    else:\n",
    "        sspikes,__,__,__,__ = get_spikes(rat_name, mod_name, day_name, 'OF', bType = 'pure',\n",
    "                                         bSmooth = True, bSpeed = True, smoothing_width = sigma)\n",
    "        spikes,__,__,__,__ = get_spikes(rat_name, mod_name, day_name, 'OF', bType = 'pure',\n",
    "                                         bSmooth = False, bSpeed = True)\n",
    "        dspk =preprocessing.scale(sspikes)\n",
    "        times_box = np.where(np.sum(spikes>0, 1)>=1)[0]\n",
    "        dspk = dspk[times_box,:]\n",
    "\n",
    "        a = np.zeros((len(times_box), 2, num_neurons))\n",
    "        for n in range(num_neurons):\n",
    "            a[:,:,n] = np.multiply(dspk[:,n:n+1],np.sum(centcosall[n,:,:],1))\n",
    "\n",
    "        c = np.zeros((len(times_box), 2, num_neurons))\n",
    "        for n in range(num_neurons):\n",
    "            c[:,:,n] = np.multiply(dspk[:,n:n+1],np.sum(centsinall[n,:,:],1))\n",
    "\n",
    "        mtot2 = np.sum(c,2)\n",
    "        mtot1 = np.sum(a,2)\n",
    "        coordsbox = np.arctan2(mtot2,mtot1)%(2*np.pi)\n",
    "    if len(day_name)>0:\n",
    "        day_name = '_' + day_name\n",
    "    np.savez_compressed('Toroidal_topology_grid_cell_data/Results/' + \n",
    "                        rat_name + '_' + mod_name + '_' + sess_name + day_name  + '_decoding', \n",
    "                        coords = coords, coordsbox = coordsbox,  times = times, \n",
    "                        times_box = times_box, centcosall = centcosall, centsinall = centsinall)\n",
    "\n"
   ]
  }
 ],
 "metadata": {
  "kernelspec": {
   "display_name": "Python 3",
   "language": "python",
   "name": "python3"
  },
  "language_info": {
   "codemirror_mode": {
    "name": "ipython",
    "version": 3
   },
   "file_extension": ".py",
   "mimetype": "text/x-python",
   "name": "python",
   "nbconvert_exporter": "python",
   "pygments_lexer": "ipython3",
   "version": "3.7.6"
  }
 },
 "nbformat": 4,
 "nbformat_minor": 4
}
